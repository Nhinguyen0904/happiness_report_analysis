#Average index 
world_index['Year'] = pd.to_datetime(world_index['Year'], format='%Y')
average_index_by_year = world_index.groupby('Year')['Index'].mean()
sns.set_style("whitegrid")
plt.figure(figsize=(12, 8)) 
plt.plot(average_index_by_year.index, average_index_by_year.values, marker='o', markersize=8, color='blue', label='Average Index')
plt.xlabel('Year', fontsize=14, labelpad=12)  
plt.ylabel('Average Index', fontsize=14, labelpad=12) 
plt.title('Average Happiness Index Across Countries Over Time', fontsize=18)
plt.legend(fontsize=12)
plt.grid(True, linestyle='--', alpha=0.7, color='gray')
plt.xticks(fontsize=12)
plt.yticks(fontsize=12)
plt.tight_layout() 
plt.show()

#index score by country
world_index['Year'] = pd.to_datetime(world_index['Year'], format='%Y')
countries = world_index['Country'].unique()
plt.figure(figsize=(10, 9))
color = 'blue'
line_styles = ['-', '--', '-.', ':']

for i, country in enumerate(countries):
    country_data = world_index[world_index['Country'] == country]
    line_style = line_styles[i % len(line_styles)]  
    plt.plot(country_data['Year'], country_data['Index'], label=country, linestyle=line_style, linewidth=1)

plt.xlabel('Year')
plt.ylabel('Index')
plt.title('Index Over Time By Country', fontsize = 18)
plt.legend(loc='upper center', bbox_to_anchor=(0.5, -0.15), ncol=3)  
plt.show()

#Happiness index trends of Finland
world_index['Year'] = pd.to_datetime(world_index['Year'], format='%Y')
finland_data = world_index[world_index['Country'] == 'Finland']
plt.figure(figsize=(10, 6)) 
plt.plot(finland_data['Year'], finland_data['Index'], marker='o', color='blue', linestyle='-', linewidth=2)
plt.xlabel('Year', fontsize=14, labelpad=12)  
plt.ylabel('Index', fontsize=14, labelpad=12)  
plt.title('Happiness Index Score Over Time Of Finland', fontsize=18) 
plt.grid(True, linewidth=0.5)
plt.xticks(fontsize=11)
plt.yticks(fontsize=11)
plt.tight_layout()  
plt.show()

#Happiness index rankings of Finland
world_index['Year'] = pd.to_datetime(world_index['Year'], format='%Y')
finland_data = world_index[world_index['Country'] == 'Finland']
plt.figure(figsize=(10, 6)) 
plt.plot(finland_data['Year'], finland_data['Rank'], marker='o', color='blue', linestyle='-', linewidth=2)
plt.xlabel('Year', fontsize=14, labelpad=12)
plt.ylabel('Rank', fontsize=14, labelpad=12) 
plt.title('Happiness Index Ranks Over Time Of Finland', fontsize=18)  
plt.grid(True, linewidth=0.5)
plt.xticks(fontsize=11)
plt.yticks(fontsize=11)
plt.tight_layout()  
plt.show()

#top 10 countries with highest happiest score
top_10_countries = world_2023.sort_values("Ladder score", ascending=False).head(10)
plt.figure(figsize=(10, 6))
plt.barh(top_10_countries["Country name"], top_10_countries["Ladder score"], color="purple")
plt.xlabel("Ladder score(Happiness score)", fontsize=14, labelpad=12)
plt.ylabel("Country name", fontsize=14, labelpad=12)
plt.title("Top 10 Countries with the Highest Ladder Score", fontsize=18)
plt.gca().invert_yaxis()
plt.show()

top_10_countries = world_2023.sort_values(by="Ladder score", ascending=False).head(10)
metrics = ["Logged GDP per capita", "Social support", "Healthy life expectancy", "Generosity", "Freedom to make life choices"]

# Extract data for the top 10 countries and selected metrics
top_10_data = top_10_countries[["Country name"] + metrics]
top_10_data = top_10_data.set_index("Country name").T

# Create a grouped bar chart
plt.figure(figsize=(12, 8))
top_10_data.plot(kind="bar", width=0.8, colormap="viridis", edgecolor="black")
plt.xlabel("Metrics", fontsize=12)
plt.ylabel("Values", fontsize=12)
plt.title("Happiness Metrics of the Happiest Countries in 2023", fontsize=18)
plt.legend(title="Country", bbox_to_anchor=(1.05, 1), loc='upper left', fontsize=11)
plt.xticks(rotation=45, fontsize=11)
plt.yticks(fontsize=11)
plt.show()

#Distibution of Ladder score
sns.set(style="whitegrid")
plt.figure(figsize=(10, 6))
ax = sns.histplot(data=world_2023, x="Ladder score", bins=20, kde=True, color='blue')
plt.xlabel("Ladder Score", fontsize=14)
plt.ylabel("Frequency", fontsize=14)
plt.title("Distribution of Ladder Score", fontsize=16)
mean_score = world_2023["Ladder score"].mean()
plt.axvline(mean_score, color='red', linestyle='--', label=f"Mean Score ({mean_score:.2f})", linewidth=2)
plt.legend()
plt.xticks(fontsize=12)
plt.yticks(fontsize=12)
plt.show()

plt.scatter(world_2023["Ladder score"], world_2023["Logged GDP per capita"], color="purple", label="Data Points")
x = world_2023["Ladder score"]
y = world_2023["Logged GDP per capita"]
z = np.polyfit(x, y, 1)
p = np.poly1d(z)
sns.regplot(x=x, y=y, color="blue", scatter=False, label="Trendline")
plt.title("Happiness Ladder Score and Logged GDP per Capita", fontsize=18)
plt.xlabel("Happiness Ladder Score")
plt.ylabel("Logged GDP per Capita")
plt.legend()
plt.show()

plt.scatter(world_2023["Ladder score"], world_2023["Social support"], color="purple", label="Data Points")
x = world_2023["Ladder score"]
y = world_2023["Social support"]
z = np.polyfit(x, y, 1)
p = np.poly1d(z)
sns.regplot(x=x, y=y, color="blue", scatter=False, label="Trendline")
plt.title("Happiness Ladder Score and Social Support", fontsize=18)
plt.xlabel("Happiness Ladder Score")
plt.ylabel("Social Support")
plt.legend()
plt.show()
